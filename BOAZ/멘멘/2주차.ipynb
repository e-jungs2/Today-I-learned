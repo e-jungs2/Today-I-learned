{
 "cells": [
  {
   "cell_type": "markdown",
   "id": "c3b271b6",
   "metadata": {},
   "source": [
    "# 파이썬 딥러닝 파이토치\n",
    "## 예제 4-2 : CIFAR-10 데이터를 이용해 Concolutional Neural Network(CNN) 설계하기"
   ]
  },
  {
   "cell_type": "code",
   "execution_count": null,
   "id": "72f86c7c",
   "metadata": {},
   "outputs": [],
   "source": [
    "import torch\n",
    "import torch.nn as nn"
   ]
  },
  {
   "cell_type": "code",
   "execution_count": 7,
   "id": "1ca7e817",
   "metadata": {},
   "outputs": [],
   "source": [
    "class CNN(nn.Module) :\n",
    "    def __init__(self) :\n",
    "        super(CNN, self).__init__()\n",
    "        self.conv1 = nn.Conv2d(\n",
    "            in_channels =3,\n",
    "            out_channels = 8,\n",
    "            kernel_size =3,\n",
    "            padding = 1)\n",
    "        self.conv2 = nn.Conv2d(\n",
    "            in_channels =8,\n",
    "            out_channels = 16,\n",
    "            kernel_size =3,\n",
    "            padding = 1)\n",
    "        self.pool = nn.MaxPool2d(\n",
    "            kernel_size = 2,\n",
    "            stride =2)\n",
    "        self.fc1 = nn.Linear(8 * 8 * 16, 64)\n",
    "        self.fc2 = nn.Linear(64, 32)\n",
    "        self.fc3 = nn.Linear(32, 10)"
   ]
  },
  {
   "cell_type": "code",
   "execution_count": 8,
   "id": "11710942",
   "metadata": {},
   "outputs": [],
   "source": [
    "def forward(self, x) :\n",
    "    x = self.conv1(x)\n",
    "    x = F.relu(x)\n",
    "    x = self.pool(x)\n",
    "    x = self.conv2(x)\n",
    "    x = F.relu(x)\n",
    "    x = self.pool(x)\n",
    "\n",
    "    x = x.view(-1, 8 * 8 * 16)\n",
    "    x = self.fc1(x)\n",
    "    x = F.relu(x)\n",
    "    x = self.fc2(x)\n",
    "    x = F.relu(x)\n",
    "    x = self.fc3(x)\n",
    "    x = F.log_softmax(x)\n",
    "    return x"
   ]
  },
  {
   "cell_type": "code",
   "execution_count": null,
   "id": "227f72e6",
   "metadata": {},
   "outputs": [],
   "source": []
  }
 ],
 "metadata": {
  "kernelspec": {
   "display_name": "Python 3",
   "language": "python",
   "name": "python3"
  },
  "language_info": {
   "codemirror_mode": {
    "name": "ipython",
    "version": 3
   },
   "file_extension": ".py",
   "mimetype": "text/x-python",
   "name": "python",
   "nbconvert_exporter": "python",
   "pygments_lexer": "ipython3",
   "version": "3.12.3"
  }
 },
 "nbformat": 4,
 "nbformat_minor": 5
}
